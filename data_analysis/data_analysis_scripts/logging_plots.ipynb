{
 "cells": [
  {
   "cell_type": "markdown",
   "metadata": {},
   "source": [
    "Handle Imports"
   ]
  },
  {
   "cell_type": "code",
   "execution_count": null,
   "metadata": {},
   "outputs": [],
   "source": [
    "import sys\n",
    "import os\n",
    "import ast\n",
    "import argparse\n",
    "import pandas as pd\n",
    "import plotly.graph_objs as go\n",
    "pd.options.plotting.backend = \"plotly\"\n",
    "from logging_plotter import parse_datastamp_topic_csv\n"
   ]
  },
  {
   "cell_type": "markdown",
   "metadata": {},
   "source": [
    "MACROS"
   ]
  },
  {
   "cell_type": "code",
   "execution_count": null,
   "metadata": {},
   "outputs": [],
   "source": [
    "VICON_FILE = '/home/will/drl_swarm/data_analysis/vicon_outputs.csv'\n",
    "LH_FILE = '/home/will/drl_swarm/data_analysis/lh_data.csv'\n",
    "ODOM_FILE = '/home/will/drl_swarm/data_analysis/odom_data.csv'"
   ]
  },
  {
   "cell_type": "markdown",
   "metadata": {},
   "source": [
    " Read in vicon outputs"
   ]
  },
  {
   "cell_type": "code",
   "execution_count": null,
   "metadata": {},
   "outputs": [],
   "source": [
    "vicon_topics = {\"/rigid_bodies.rigidbodies[0].pose.position.x\": \"tb1_x\",\n",
    "                \"/rigid_bodies.rigidbodies[0].pose.position.y\": \"tb1_y\",\n",
    "                \"/rigid_bodies.rigidbodies[0].pose.position.z\": \"tb1_z\",\n",
    "                \"/rigid_bodies.rigidbodies[1].pose.position.x\": \"tb2_x\",\n",
    "                \"/rigid_bodies.rigidbodies[1].pose.position.y\": \"tb2_y\",\n",
    "                \"/rigid_bodies.rigidbodies[1].pose.position.z\": \"tb2_z\",\n",
    "                \"/rigid_bodies.rigidbodies[2].pose.position.x\": \"cf_x\",\n",
    "                \"/rigid_bodies.rigidbodies[2].pose.position.y\": \"cf_y\",\n",
    "                \"/rigid_bodies.rigidbodies[2].pose.position.z\": \"cf_z\",}\n",
    "odom_topics = {\"/odom.pose.pose.position.x\": \"odom_x\",\n",
    "                \"/odom.pose.pose.position.y\": \"odom_y\",\n",
    "                \"/odom.pose.pose.position.z\": \"odom_z\",}\n",
    "lh_topics = {'/tf.transforms[:]{child_frame_id==\"lighthouse_link\"}.transform.translation.x': 'lh_x',\n",
    "                '/tf.transforms[:]{child_frame_id==\"lighthouse_link\"}.transform.translation.y': 'lh_y',\n",
    "                '/tf.transforms[:]{child_frame_id==\"lighthouse_link\"}.transform.translation.z': 'lh_z',}"
   ]
  },
  {
   "cell_type": "code",
   "execution_count": null,
   "metadata": {},
   "outputs": [],
   "source": [
    "df_vicon = parse_datastamp_topic_csv(VICON_FILE, vicon_topics)\n",
    "df_lh = parse_datastamp_topic_csv(LH_FILE, lh_topics)\n",
    "df_odom = parse_datastamp_topic_csv(ODOM_FILE, odom_topics)\n",
    "tb_vicon_data = df_vicon.filter(like=\"tb\")\n",
    "cf_vicon_data = df_vicon.filter(like=\"cf\")"
   ]
  },
  {
   "cell_type": "markdown",
   "metadata": {},
   "source": [
    "Simple Plot Outputs"
   ]
  },
  {
   "cell_type": "code",
   "execution_count": null,
   "metadata": {},
   "outputs": [],
   "source": [
    "fig1 = tb_vicon_data.plot(title=\"TB Vicon Data\", x =tb_vicon_data.index, y=tb_vicon_data.columns, kind = 'scatter', template = 'plotly_dark')\n",
    "fig1.show(renderer=\"browser\")\n",
    "\n",
    "fig2 = cf_vicon_data.plot(title=\"CF Vicon Data\", x =cf_vicon_data.index, y=cf_vicon_data.columns, kind = 'scatter', template = 'plotly_dark')\n",
    "fig2.show(renderer=\"browser\")\n",
    "\n",
    "fig3 = df_lh.plot(title=\"Lighthouse Data\", x =df_lh.index, y=df_lh.columns, kind = 'scatter', template = 'plotly_dark')\n",
    "fig3.show(renderer=\"browser\")\n",
    "\n",
    "fig4 = df_odom.plot(title=\"Odometry Data\", x =df_odom.index, y=df_odom.columns, kind = 'scatter', template = 'plotly_dark')\n",
    "fig4.show(renderer=\"browser\")\n"
   ]
  },
  {
   "cell_type": "markdown",
   "metadata": {},
   "source": [
    "# Start of Data Analysis and Cleaning"
   ]
  },
  {
   "cell_type": "markdown",
   "metadata": {},
   "source": [
    "### Initial Positions"
   ]
  },
  {
   "cell_type": "markdown",
   "metadata": {},
   "source": [
    "Get offsets for crazyflie lh and vicon initial positions"
   ]
  },
  {
   "cell_type": "code",
   "execution_count": null,
   "metadata": {},
   "outputs": [],
   "source": [
    "vicon_cf_offset = (cf_vicon_data.dropna()).head(75).mean()\n",
    "lh_cf_offset = (df_lh.dropna()).head(75).mean()\n",
    "print(f\"vicon_cf_offset: {vicon_cf_offset}\")\n",
    "print(f\"lh_cf_offset: {lh_cf_offset}\")"
   ]
  },
  {
   "cell_type": "markdown",
   "metadata": {},
   "source": [
    "Get offsets for the turtlebot positions"
   ]
  },
  {
   "cell_type": "code",
   "execution_count": null,
   "metadata": {},
   "outputs": [],
   "source": [
    "print(tb_vicon_data.mean())\n"
   ]
  },
  {
   "cell_type": "markdown",
   "metadata": {},
   "source": [
    "## Compare Crazyflie position when computed from Vicon and Lighthouse"
   ]
  },
  {
   "cell_type": "code",
   "execution_count": null,
   "metadata": {},
   "outputs": [],
   "source": [
    "comparison_df = pd.concat([df_vicon.filter(like=\"cf\"), df_lh], axis=1)\n",
    "comparison_df.dropna(axis=0, how='all', inplace=True)\n",
    "fig5 = comparison_df.plot(title=\"Comparison plot\", x = comparison_df.index, y = comparison_df.columns, kind = \"scatter\", template=\"plotly_dark\")\n",
    "fig5.show(renderer=\"browser\")"
   ]
  },
  {
   "cell_type": "markdown",
   "metadata": {},
   "source": [
    "Subtract initial position from `comparison_df`"
   ]
  },
  {
   "cell_type": "code",
   "execution_count": null,
   "metadata": {},
   "outputs": [],
   "source": [
    "comparison_df_normalized = comparison_df - pd.concat([vicon_cf_offset, lh_cf_offset])\n",
    "comparison_df_x = comparison_df_normalized.filter(like=\"_x\")\n",
    "comparison_df_y = comparison_df_normalized.filter(like=\"_y\")\n",
    "comparison_df_z = comparison_df_normalized.filter(like=\"_z\")"
   ]
  },
  {
   "cell_type": "code",
   "execution_count": null,
   "metadata": {},
   "outputs": [],
   "source": [
    "fig6 = comparison_df_x.plot(title=\"Vicon vs LH x\", x = comparison_df_x.index, y = comparison_df_x.columns, kind = \"scatter\", template=\"plotly_dark\")\n",
    "fig6.show(renderer=\"browser\")\n",
    "\n",
    "fig7 = comparison_df_y.plot(title=\"Vicon vs LH y\", x = comparison_df_y.index, y = comparison_df_y.columns, kind = \"scatter\", template=\"plotly_dark\")\n",
    "fig7.show(renderer=\"browser\")\n",
    "\n",
    "fig8 = comparison_df_z.plot(title=\"Vicon vs LH z\", x = comparison_df_z.index, y = comparison_df_z.columns, kind = \"scatter\", template=\"plotly_dark\")\n",
    "fig8.show(renderer=\"browser\")\n"
   ]
  }
 ],
 "metadata": {
  "kernelspec": {
   "display_name": "Python 3",
   "language": "python",
   "name": "python3"
  },
  "language_info": {
   "codemirror_mode": {
    "name": "ipython",
    "version": 3
   },
   "file_extension": ".py",
   "mimetype": "text/x-python",
   "name": "python",
   "nbconvert_exporter": "python",
   "pygments_lexer": "ipython3",
   "version": "3.10.12"
  }
 },
 "nbformat": 4,
 "nbformat_minor": 2
}
