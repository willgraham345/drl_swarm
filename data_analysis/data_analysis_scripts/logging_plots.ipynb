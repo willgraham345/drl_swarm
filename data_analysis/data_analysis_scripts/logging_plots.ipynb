{
 "cells": [
  {
   "cell_type": "markdown",
   "metadata": {},
   "source": [
    "Handle Imports"
   ]
  },
  {
   "cell_type": "code",
   "execution_count": 1,
   "metadata": {},
   "outputs": [],
   "source": [
    "import sys\n",
    "import os\n",
    "import ast\n",
    "import argparse\n",
    "import pandas as pd\n",
    "import plotly.graph_objs as go\n",
    "pd.options.plotting.backend = \"plotly\"\n",
    "from logging_plotter import parse_datastamp_topic_csv\n"
   ]
  },
  {
   "cell_type": "markdown",
   "metadata": {},
   "source": [
    "MACROS"
   ]
  },
  {
   "cell_type": "code",
   "execution_count": 2,
   "metadata": {},
   "outputs": [],
   "source": [
    "TEST_FOLDER = '/home/will/drl_swarm/data_analysis/rotation_matrix_testing/flipped_sensor_pos_config/90_pitch_90_yaw/'\n",
    "CF_VICON_FILE = TEST_FOLDER + 'cf_vicon.csv'\n",
    "TB1_VICON_FILE = TEST_FOLDER + 'tb1_vicon.csv'\n",
    "TB2_VICON_FILE = TEST_FOLDER + 'tb2_vicon.csv'\n",
    "LH_FILE = TEST_FOLDER + 'lh.csv'\n",
    "ODOM_FILE = TEST_FOLDER + 'odom.csv'"
   ]
  },
  {
   "cell_type": "markdown",
   "metadata": {},
   "source": [
    " Read in vicon outputs\n",
    " \n",
    " **NOTE: Make sure the topics line up with the data you're analyzing**"
   ]
  },
  {
   "cell_type": "code",
   "execution_count": 3,
   "metadata": {},
   "outputs": [],
   "source": [
    "cf_vicon_topics= {\n",
    "                \"/rigid_bodies.rigidbodies[0].pose.position.x\": \"cf_x\",\n",
    "                \"/rigid_bodies.rigidbodies[0].pose.position.y\": \"cf_y\",\n",
    "                \"/rigid_bodies.rigidbodies[0].pose.position.z\": \"cf_z\"\n",
    "                }\n",
    "tb1_topics = {\n",
    "                \"/rigid_bodies.rigidbodies[1].pose.position.x\": \"tb1_x\",\n",
    "                \"/rigid_bodies.rigidbodies[1].pose.position.y\": \"tb1_y\",\n",
    "                \"/rigid_bodies.rigidbodies[1].pose.position.z\": \"tb1_z\"\n",
    "                }\n",
    "tb2_topics = {\n",
    "                \"/rigid_bodies.rigidbodies[2].pose.position.x\": \"tb2_x\",\n",
    "                \"/rigid_bodies.rigidbodies[2].pose.position.y\": \"tb2_y\",\n",
    "                \"/rigid_bodies.rigidbodies[2].pose.position.z\": \"tb2_z\"\n",
    "                }\n",
    "\n",
    "odom_topics = {\"/odom.pose.pose.position.x\": \"odom_x\",\n",
    "                \"/odom.pose.pose.position.y\": \"odom_y\",\n",
    "                \"/odom.pose.pose.position.z\": \"odom_z\",}\n",
    "lh_topics = {'/tf.transforms[:]{child_frame_id==\"lighthouse_link\"}.transform.translation.x': 'lh_x',\n",
    "                '/tf.transforms[:]{child_frame_id==\"lighthouse_link\"}.transform.translation.y': 'lh_y',\n",
    "                '/tf.transforms[:]{child_frame_id==\"lighthouse_link\"}.transform.translation.z': 'lh_z',}"
   ]
  },
  {
   "cell_type": "code",
   "execution_count": 4,
   "metadata": {},
   "outputs": [],
   "source": [
    "cf_vicon_data = parse_datastamp_topic_csv(CF_VICON_FILE, cf_vicon_topics)\n",
    "tb1_vicon = parse_datastamp_topic_csv(TB1_VICON_FILE, tb1_topics)\n",
    "tb2_vicon = parse_datastamp_topic_csv(TB2_VICON_FILE, tb2_topics)\n",
    "df_lh = parse_datastamp_topic_csv(LH_FILE, lh_topics)\n",
    "df_odom = parse_datastamp_topic_csv(ODOM_FILE, odom_topics)\n",
    "tb_vicon_data = pd.concat([tb1_vicon, tb2_vicon], axis=1)\n"
   ]
  },
  {
   "cell_type": "markdown",
   "metadata": {},
   "source": [
    "Simple Plot Outputs"
   ]
  },
  {
   "cell_type": "code",
   "execution_count": 5,
   "metadata": {},
   "outputs": [
    {
     "name": "stderr",
     "output_type": "stream",
     "text": [
      "/home/will/.local/lib/python3.10/site-packages/plotly/express/_core.py:2065: FutureWarning: When grouping with a length-1 list-like, you will need to pass a length-1 tuple to get_group in a future version of pandas. Pass `(name,)` instead of `name` to silence this warning.\n",
      "  sf: grouped.get_group(s if len(s) > 1 else s[0])\n",
      "/snap/core20/current/lib/x86_64-linux-gnu/libstdc++.so.6: version `GLIBCXX_3.4.29' not found (required by /lib/x86_64-linux-gnu/libproxy.so.1)\n",
      "Failed to load module: /home/will/snap/code/common/.cache/gio-modules/libgiolibproxy.so\n",
      "/home/will/.local/lib/python3.10/site-packages/plotly/express/_core.py:2065: FutureWarning:\n",
      "\n",
      "When grouping with a length-1 list-like, you will need to pass a length-1 tuple to get_group in a future version of pandas. Pass `(name,)` instead of `name` to silence this warning.\n",
      "\n"
     ]
    },
    {
     "name": "stdout",
     "output_type": "stream",
     "text": [
      "Opening in existing browser session.\n"
     ]
    },
    {
     "name": "stderr",
     "output_type": "stream",
     "text": [
      "/snap/core20/current/lib/x86_64-linux-gnu/libstdc++.so.6: version `GLIBCXX_3.4.29' not found (required by /lib/x86_64-linux-gnu/libproxy.so.1)\n",
      "Failed to load module: /home/will/snap/code/common/.cache/gio-modules/libgiolibproxy.so\n",
      "/home/will/.local/lib/python3.10/site-packages/plotly/express/_core.py:2065: FutureWarning:\n",
      "\n",
      "When grouping with a length-1 list-like, you will need to pass a length-1 tuple to get_group in a future version of pandas. Pass `(name,)` instead of `name` to silence this warning.\n",
      "\n",
      "/snap/core20/current/lib/x86_64-linux-gnu/libstdc++.so.6: version `GLIBCXX_3.4.29' not found (required by /lib/x86_64-linux-gnu/libproxy.so.1)\n",
      "Failed to load module: /home/will/snap/code/common/.cache/gio-modules/libgiolibproxy.so\n",
      "/home/will/.local/lib/python3.10/site-packages/plotly/express/_core.py:2065: FutureWarning:\n",
      "\n",
      "When grouping with a length-1 list-like, you will need to pass a length-1 tuple to get_group in a future version of pandas. Pass `(name,)` instead of `name` to silence this warning.\n",
      "\n"
     ]
    },
    {
     "name": "stdout",
     "output_type": "stream",
     "text": [
      "Opening in existing browser session.\n",
      "Opening in existing browser session.\n",
      "Opening in existing browser session.\n"
     ]
    },
    {
     "name": "stderr",
     "output_type": "stream",
     "text": [
      "/snap/core20/current/lib/x86_64-linux-gnu/libstdc++.so.6: version `GLIBCXX_3.4.29' not found (required by /lib/x86_64-linux-gnu/libproxy.so.1)\n",
      "Failed to load module: /home/will/snap/code/common/.cache/gio-modules/libgiolibproxy.so\n"
     ]
    }
   ],
   "source": [
    "fig1 = tb_vicon_data.plot(title=\"TB Vicon Data\", x =tb_vicon_data.index, y=tb_vicon_data.columns, kind = 'scatter', template = 'plotly_dark')\n",
    "fig1.show(renderer=\"browser\")\n",
    "\n",
    "fig2 = cf_vicon_data.plot(title=\"CF Vicon Data\", x =cf_vicon_data.index, y=cf_vicon_data.columns, kind = 'scatter', template = 'plotly_dark')\n",
    "fig2.show(renderer=\"browser\")\n",
    "\n",
    "fig3 = df_lh.plot(title=\"Lighthouse Data\", x =df_lh.index, y=df_lh.columns, kind = 'scatter', template = 'plotly_dark')\n",
    "fig3.show(renderer=\"browser\")\n",
    "\n",
    "fig4 = df_odom.plot(title=\"Odometry Data\", x =df_odom.index, y=df_odom.columns, kind = 'scatter', template = 'plotly_dark')\n",
    "fig4.show(renderer=\"browser\")\n"
   ]
  },
  {
   "cell_type": "markdown",
   "metadata": {},
   "source": [
    "# Start of Data Analysis and Cleaning"
   ]
  },
  {
   "cell_type": "markdown",
   "metadata": {},
   "source": [
    "### Initial Positions"
   ]
  },
  {
   "cell_type": "markdown",
   "metadata": {},
   "source": [
    "Get offsets for crazyflie lh and vicon initial positions"
   ]
  },
  {
   "cell_type": "code",
   "execution_count": 6,
   "metadata": {},
   "outputs": [
    {
     "name": "stdout",
     "output_type": "stream",
     "text": [
      "vicon_cf_offset: topic\n",
      "cf_x    0.526854\n",
      "cf_y    0.077240\n",
      "cf_z    0.986290\n",
      "dtype: float64\n",
      "lh_cf_offset: topic\n",
      "lh_x    0.620721\n",
      "lh_y    0.048385\n",
      "lh_z    0.163604\n",
      "dtype: float64\n"
     ]
    }
   ],
   "source": [
    "vicon_cf_offset = (cf_vicon_data.dropna()).head(75).mean()\n",
    "lh_cf_offset = (df_lh.dropna()).head(75).mean()\n",
    "print(f\"vicon_cf_offset: {vicon_cf_offset}\")\n",
    "print(f\"lh_cf_offset: {lh_cf_offset}\")"
   ]
  },
  {
   "cell_type": "markdown",
   "metadata": {},
   "source": [
    "Get offsets for the turtlebot positions"
   ]
  },
  {
   "cell_type": "code",
   "execution_count": 7,
   "metadata": {},
   "outputs": [
    {
     "name": "stdout",
     "output_type": "stream",
     "text": [
      "topic\n",
      "tb1_x    0.859986\n",
      "tb1_y   -0.442818\n",
      "tb1_z    0.177401\n",
      "tb2_x    0.857588\n",
      "tb2_y    0.629936\n",
      "tb2_z    0.185581\n",
      "dtype: float64\n"
     ]
    }
   ],
   "source": [
    "print(tb_vicon_data.mean())"
   ]
  },
  {
   "cell_type": "markdown",
   "metadata": {},
   "source": [
    "## Compare Crazyflie position when computed from Vicon and Lighthouse"
   ]
  },
  {
   "cell_type": "code",
   "execution_count": 8,
   "metadata": {},
   "outputs": [
    {
     "name": "stderr",
     "output_type": "stream",
     "text": [
      "/home/will/.local/lib/python3.10/site-packages/plotly/express/_core.py:2065: FutureWarning:\n",
      "\n",
      "When grouping with a length-1 list-like, you will need to pass a length-1 tuple to get_group in a future version of pandas. Pass `(name,)` instead of `name` to silence this warning.\n",
      "\n"
     ]
    },
    {
     "name": "stdout",
     "output_type": "stream",
     "text": [
      "Opening in existing browser session.\n"
     ]
    },
    {
     "name": "stderr",
     "output_type": "stream",
     "text": [
      "/snap/core20/current/lib/x86_64-linux-gnu/libstdc++.so.6: version `GLIBCXX_3.4.29' not found (required by /lib/x86_64-linux-gnu/libproxy.so.1)\n",
      "Failed to load module: /home/will/snap/code/common/.cache/gio-modules/libgiolibproxy.so\n"
     ]
    }
   ],
   "source": [
    "comparison_df = pd.concat([cf_vicon_data, df_lh], axis=1)\n",
    "comparison_df.dropna(axis=0, how='all', inplace=True)\n",
    "fig5 = comparison_df.plot(title=\"Comparison plot\", x = comparison_df.index, y = comparison_df.columns, kind = \"scatter\", template=\"plotly_dark\")\n",
    "fig5.show(renderer=\"browser\")"
   ]
  },
  {
   "cell_type": "markdown",
   "metadata": {},
   "source": [
    "Subtract initial position from `comparison_df`"
   ]
  },
  {
   "cell_type": "code",
   "execution_count": 9,
   "metadata": {},
   "outputs": [],
   "source": [
    "comparison_df_normalized = comparison_df - pd.concat([vicon_cf_offset, lh_cf_offset])\n",
    "comparison_df_x = comparison_df_normalized.filter(like=\"_x\")\n",
    "comparison_df_y = comparison_df_normalized.filter(like=\"_y\")\n",
    "comparison_df_z = comparison_df_normalized.filter(like=\"_z\")"
   ]
  },
  {
   "cell_type": "code",
   "execution_count": 10,
   "metadata": {},
   "outputs": [
    {
     "name": "stderr",
     "output_type": "stream",
     "text": [
      "/home/will/.local/lib/python3.10/site-packages/plotly/express/_core.py:2065: FutureWarning:\n",
      "\n",
      "When grouping with a length-1 list-like, you will need to pass a length-1 tuple to get_group in a future version of pandas. Pass `(name,)` instead of `name` to silence this warning.\n",
      "\n",
      "/snap/core20/current/lib/x86_64-linux-gnu/libstdc++.so.6: version `GLIBCXX_3.4.29' not found (required by /lib/x86_64-linux-gnu/libproxy.so.1)\n",
      "Failed to load module: /home/will/snap/code/common/.cache/gio-modules/libgiolibproxy.so\n",
      "/home/will/.local/lib/python3.10/site-packages/plotly/express/_core.py:2065: FutureWarning:\n",
      "\n",
      "When grouping with a length-1 list-like, you will need to pass a length-1 tuple to get_group in a future version of pandas. Pass `(name,)` instead of `name` to silence this warning.\n",
      "\n"
     ]
    },
    {
     "name": "stdout",
     "output_type": "stream",
     "text": [
      "Opening in existing browser session.\n"
     ]
    },
    {
     "name": "stderr",
     "output_type": "stream",
     "text": [
      "/snap/core20/current/lib/x86_64-linux-gnu/libstdc++.so.6: version `GLIBCXX_3.4.29' not found (required by /lib/x86_64-linux-gnu/libproxy.so.1)\n",
      "Failed to load module: /home/will/snap/code/common/.cache/gio-modules/libgiolibproxy.so\n",
      "/home/will/.local/lib/python3.10/site-packages/plotly/express/_core.py:2065: FutureWarning:\n",
      "\n",
      "When grouping with a length-1 list-like, you will need to pass a length-1 tuple to get_group in a future version of pandas. Pass `(name,)` instead of `name` to silence this warning.\n",
      "\n"
     ]
    },
    {
     "name": "stdout",
     "output_type": "stream",
     "text": [
      "Opening in existing browser session.\n",
      "Opening in existing browser session.\n"
     ]
    },
    {
     "name": "stderr",
     "output_type": "stream",
     "text": [
      "/snap/core20/current/lib/x86_64-linux-gnu/libstdc++.so.6: version `GLIBCXX_3.4.29' not found (required by /lib/x86_64-linux-gnu/libproxy.so.1)\n",
      "Failed to load module: /home/will/snap/code/common/.cache/gio-modules/libgiolibproxy.so\n"
     ]
    }
   ],
   "source": [
    "fig6 = comparison_df_x.plot(title=\"Vicon vs LH x\", x = comparison_df_x.index, y = comparison_df_x.columns, kind = \"scatter\", template=\"plotly_dark\")\n",
    "fig6.show(renderer=\"browser\")\n",
    "\n",
    "fig7 = comparison_df_y.plot(title=\"Vicon vs LH y\", x = comparison_df_y.index, y = comparison_df_y.columns, kind = \"scatter\", template=\"plotly_dark\")\n",
    "fig7.show(renderer=\"browser\")\n",
    "\n",
    "fig8 = comparison_df_z.plot(title=\"Vicon vs LH z\", x = comparison_df_z.index, y = comparison_df_z.columns, kind = \"scatter\", template=\"plotly_dark\")\n",
    "fig8.show(renderer=\"browser\")\n"
   ]
  }
 ],
 "metadata": {
  "kernelspec": {
   "display_name": "Python 3",
   "language": "python",
   "name": "python3"
  },
  "language_info": {
   "codemirror_mode": {
    "name": "ipython",
    "version": 3
   },
   "file_extension": ".py",
   "mimetype": "text/x-python",
   "name": "python",
   "nbconvert_exporter": "python",
   "pygments_lexer": "ipython3",
   "version": "3.10.12"
  }
 },
 "nbformat": 4,
 "nbformat_minor": 2
}
