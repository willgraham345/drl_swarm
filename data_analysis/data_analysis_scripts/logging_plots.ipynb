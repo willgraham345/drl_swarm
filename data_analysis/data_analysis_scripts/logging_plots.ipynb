{
 "cells": [
  {
   "cell_type": "markdown",
   "metadata": {},
   "source": [
    "Handle Imports"
   ]
  },
  {
   "cell_type": "code",
   "execution_count": null,
   "metadata": {},
   "outputs": [],
   "source": [
    "import sys\n",
    "import os\n",
    "import ast\n",
    "import argparse\n",
    "import pandas as pd\n",
    "import plotly.graph_objs as go\n"
   ]
  },
  {
   "cell_type": "markdown",
   "metadata": {},
   "source": [
    "MACROS"
   ]
  },
  {
   "cell_type": "code",
   "execution_count": null,
   "metadata": {},
   "outputs": [],
   "source": [
    "VICON_FILE = '/home/will/drl_swarm/data_analysis/vicon_outputs.csv'\n",
    "LH_FILE = '/home/will/drl_swarm/data_analysis/lh_data.csv'\n",
    "ODOM_FILE = '/home/will/drl_swarm/data_analysis/odom_data.csv'"
   ]
  },
  {
   "cell_type": "markdown",
   "metadata": {},
   "source": [
    " Read in vicon outputs"
   ]
  },
  {
   "cell_type": "code",
   "execution_count": null,
   "metadata": {},
   "outputs": [],
   "source": [
    "vicon_topics = [(\"/rigid_bodies.rigidbodies[0].pose.position.x\", \"tb1_x\"), \n",
    "                (\"/rigid_bodies.rigidbodies[0].pose.position.y\", \"tb1_y\"),\n",
    "                (\"/rigid_bodies.rigidbodies[0].pose.position.z\", \"tb1_z\"),\n",
    "                (\"/rigid_bodies.rigidbodies[1].pose.position.x\", \"tb2_x\"),\n",
    "                (\"/rigid_bodies.rigidbodies[1].pose.position.y\", \"tb2_y\"),\n",
    "                (\"/rigid_bodies.rigidbodies[1].pose.position.z\", \"tb2_z\"),\n",
    "                (\"/rigid_bodies.rigidbodies[2].pose.position.x\", \"cf_x\"),\n",
    "                (\"/rigid_bodies.rigidbodies[2].pose.position.y\", \"cf_y\"),\n",
    "                (\"/rigid_bodies.rigidbodies[2].pose.position.z\", \"cf_z\"),]\n",
    "odom_topics = [(\"/odom.pose.pose.position.x\", \"odom_x\"),\n",
    "               (\"/odom.pose.pose.position.y\", \"odom_y\"),\n",
    "               (\"/odom.pose.pose.position.z\", \"odom_z\"),]"
   ]
  },
  {
   "cell_type": "code",
   "execution_count": null,
   "metadata": {},
   "outputs": [],
   "source": [
    "df_temp = pd.read_csv(VICON_FILE)\n",
    "df_temp['header.stamp'] = pd.to_datetime(df_temp['header.stamp'], unit='s')\n",
    "df_temp.set_index('header.stamp', inplace=True)\n",
    "df_vicon = df_temp.pivot_table(index=['header.stamp'], columns='topic', values='value', aggfunc='first')\n",
    "df_vicon.head()"
   ]
  },
  {
   "cell_type": "markdown",
   "metadata": {},
   "source": [
    "Read in odom data"
   ]
  },
  {
   "cell_type": "code",
   "execution_count": null,
   "metadata": {},
   "outputs": [],
   "source": [
    "df_temp = pd.read_csv(LH_FILE)\n",
    "df_temp['header.stamp'] = pd.to_datetime(df_temp['header.stamp'], unit='s')\n",
    "df_temp.set_index('header.stamp', inplace=True)\n",
    "df_lh = df_temp.pivot_table(index=['header.stamp'], columns='topic', values='value', aggfunc='first')\n",
    "df_lh.head()"
   ]
  },
  {
   "cell_type": "markdown",
   "metadata": {},
   "source": [
    "Read in lh data"
   ]
  },
  {
   "cell_type": "code",
   "execution_count": null,
   "metadata": {},
   "outputs": [],
   "source": [
    "df_temp = pd.read_csv(ODOM_FILE)\n",
    "df_temp['header.stamp'] = pd.to_datetime(df_temp['header.stamp'], unit='s')\n",
    "df_temp.set_index('header.stamp', inplace=True)\n",
    "df_odom = df_temp.pivot_table(index=['header.stamp'], columns='topic', values='value', aggfunc='first')\n",
    "df_odom.head()"
   ]
  }
 ],
 "metadata": {
  "kernelspec": {
   "display_name": "Python 3",
   "language": "python",
   "name": "python3"
  },
  "language_info": {
   "codemirror_mode": {
    "name": "ipython",
    "version": 3
   },
   "file_extension": ".py",
   "mimetype": "text/x-python",
   "name": "python",
   "nbconvert_exporter": "python",
   "pygments_lexer": "ipython3",
   "version": "3.10.12"
  }
 },
 "nbformat": 4,
 "nbformat_minor": 2
}
